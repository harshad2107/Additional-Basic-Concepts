{
 "cells": [
  {
   "cell_type": "markdown",
   "id": "prostate-citizenship",
   "metadata": {},
   "source": [
    "## Pandas Series"
   ]
  },
  {
   "cell_type": "code",
   "execution_count": 2,
   "id": "proved-contributor",
   "metadata": {},
   "outputs": [],
   "source": [
    "## Importing Pandas\n",
    "import pandas as pd\n",
    "import numpy as np"
   ]
  },
  {
   "cell_type": "code",
   "execution_count": 3,
   "id": "proud-alignment",
   "metadata": {
    "scrolled": true
   },
   "outputs": [
    {
     "name": "stdout",
     "output_type": "stream",
     "text": [
      "<class 'numpy.ndarray'>\n",
      "[29 14 81 85 87 52 89 68 64 87]\n",
      "Pandas series from List\n",
      " 0    29\n",
      "1    14\n",
      "2    81\n",
      "3    85\n",
      "4    87\n",
      "5    52\n",
      "6    89\n",
      "7    68\n",
      "8    64\n",
      "9    87\n",
      "dtype: int32\n",
      "Pandas Series Index :  RangeIndex(start=0, stop=10, step=1)\n",
      "0    10\n",
      "1    15\n",
      "2    12\n",
      "3    16\n",
      "4    21\n",
      "dtype: int64\n",
      "0     10\n",
      "1     15\n",
      "2     20\n",
      "3     25\n",
      "4     30\n",
      "5     35\n",
      "6     40\n",
      "7     45\n",
      "8     50\n",
      "9     55\n",
      "10    60\n",
      "11    65\n",
      "12    70\n",
      "13    75\n",
      "14    80\n",
      "15    85\n",
      "16    90\n",
      "17    95\n",
      "dtype: int64\n"
     ]
    }
   ],
   "source": [
    "l1 = np.random.randint(10,90, 10)\n",
    "print(type(l1))\n",
    "print(l1)\n",
    "## Creating a pandas series from a list\n",
    "s1 = pd.Series(list(l1))\n",
    "\n",
    "## Printing the series\n",
    "print(\"Pandas series from List\\n\",s1)\n",
    "print(\"Pandas Series Index : \", s1.index)\n",
    "\n",
    "s2 = pd.Series([10, 15, 12, 16, 21])\n",
    "print(s2)\n",
    "\n",
    "s3 = pd.Series(range(10, 100, 5))\n",
    "print(s3)"
   ]
  },
  {
   "cell_type": "code",
   "execution_count": 6,
   "id": "moderate-virginia",
   "metadata": {},
   "outputs": [
    {
     "name": "stdout",
     "output_type": "stream",
     "text": [
      "Pandas series from an Array\n",
      " 0    23\n",
      "1    54\n",
      "2    87\n",
      "3    91\n",
      "4    34\n",
      "5    65\n",
      "dtype: int32\n"
     ]
    }
   ],
   "source": [
    "## Creating a pandas series from an array\n",
    "s1 = pd.Series(np.array([23, 54, 87, 91, 34, 65]))\n",
    "\n",
    "## Printing the series\n",
    "print(\"Pandas series from an Array\\n\",s1)"
   ]
  },
  {
   "cell_type": "code",
   "execution_count": 9,
   "id": "asian-brave",
   "metadata": {},
   "outputs": [
    {
     "data": {
      "text/plain": [
       "0     15000\n",
       "2    250000\n",
       "4     45000\n",
       "6     24000\n",
       "8     34000\n",
       "dtype: int32"
      ]
     },
     "execution_count": 9,
     "metadata": {},
     "output_type": "execute_result"
    }
   ],
   "source": [
    "## Creating a pandas series with numeric index\n",
    "salaries_index = pd.Series(np.array([15000, 250000, 45000, 24000, 34000]), index=np.arange(0,10,2))\n",
    "\n",
    "## Printing the series\n",
    "salaries_index"
   ]
  },
  {
   "cell_type": "code",
   "execution_count": 10,
   "id": "addressed-intent",
   "metadata": {},
   "outputs": [
    {
     "data": {
      "text/plain": [
       "a1     15000\n",
       "a2    250000\n",
       "a3     45000\n",
       "a4     24000\n",
       "a5     34000\n",
       "dtype: int32"
      ]
     },
     "execution_count": 10,
     "metadata": {},
     "output_type": "execute_result"
    }
   ],
   "source": [
    "## Creating a pandas series with string index\n",
    "salaries_index = pd.Series(np.array([15000, 250000, 45000, 24000, 34000]), \n",
    "                           index=['a1','a2','a3','a4','a5']\n",
    "                          )\n",
    "\n",
    "## Printing the series\n",
    "salaries_index"
   ]
  },
  {
   "cell_type": "code",
   "execution_count": 11,
   "id": "naughty-thread",
   "metadata": {},
   "outputs": [
    {
     "name": "stdout",
     "output_type": "stream",
     "text": [
      "Fruits        50000\n",
      "Vegetables    23400\n",
      "Pulses        23900\n",
      "dtype: int64\n",
      "Index(['Fruits', 'Vegetables', 'Pulses'], dtype='object')\n"
     ]
    }
   ],
   "source": [
    "## Creating Pandas Series from a dictionary\n",
    "proddict = {\"Fruits\":50000, 'Vegetables':23400,'Pulses':23900}\n",
    "\n",
    "## Creating series from dictionary\n",
    "prodseries = pd.Series(proddict)\n",
    "\n",
    "print(prodseries)\n",
    "print(prodseries.index)"
   ]
  },
  {
   "cell_type": "markdown",
   "id": "laughing-major",
   "metadata": {},
   "source": [
    "The keys of a dictionary become an index for the series"
   ]
  },
  {
   "cell_type": "code",
   "execution_count": 5,
   "id": "2f8f270a",
   "metadata": {},
   "outputs": [
    {
     "data": {
      "text/plain": [
       "dict_keys(['Fruits', 'Vegetables', 'Pulses'])"
      ]
     },
     "execution_count": 5,
     "metadata": {},
     "output_type": "execute_result"
    }
   ],
   "source": [
    "proddict.keys()"
   ]
  },
  {
   "cell_type": "code",
   "execution_count": 5,
   "id": "august-competition",
   "metadata": {},
   "outputs": [
    {
     "name": "stdout",
     "output_type": "stream",
     "text": [
      "(977, 325, 600, 625, 371, 142, 440, 791, 593, 439)\n",
      "0    977\n",
      "1    325\n",
      "2    600\n",
      "3    625\n",
      "4    371\n",
      "5    142\n",
      "6    440\n",
      "7    791\n",
      "8    593\n",
      "9    439\n",
      "dtype: int64\n"
     ]
    }
   ],
   "source": [
    "t1 = tuple(np.random.randint(100,1000, 10))\n",
    "print(t1)\n",
    "p1 = pd.Series(t1)\n",
    "print(p1)"
   ]
  },
  {
   "cell_type": "code",
   "execution_count": 6,
   "id": "national-portuguese",
   "metadata": {},
   "outputs": [
    {
     "data": {
      "text/plain": [
       "X    [Maths, English, Computers]\n",
       "Y           [Computers, Science]\n",
       "Z                        Science\n",
       "dtype: object"
      ]
     },
     "execution_count": 6,
     "metadata": {},
     "output_type": "execute_result"
    }
   ],
   "source": [
    "## Creating class dictionary\n",
    "classdict = {'X':['Maths','English','Computers'],\n",
    "             'Y':['Computers','Science'],\n",
    "             'Z':\"Science\"}\n",
    "\n",
    "## Creating series from dictionary\n",
    "class_series = pd.Series(classdict)\n",
    "\n",
    "class_series"
   ]
  },
  {
   "cell_type": "code",
   "execution_count": 7,
   "id": "hundred-jamaica",
   "metadata": {},
   "outputs": [
    {
     "name": "stdout",
     "output_type": "stream",
     "text": [
      "The Index names\n",
      "Index(['X', 'Y', 'Z'], dtype='object')\n",
      "\n",
      "The Series Values\n"
     ]
    },
    {
     "data": {
      "text/plain": [
       "array([list(['Maths', 'English', 'Computers']),\n",
       "       list(['Computers', 'Science']), 'Science'], dtype=object)"
      ]
     },
     "execution_count": 7,
     "metadata": {},
     "output_type": "execute_result"
    }
   ],
   "source": [
    "## Printing the index names\n",
    "print(\"The Index names\")\n",
    "print(class_series.index)\n",
    "\n",
    "##  Printing the Series values\n",
    "print(\"\\nThe Series Values\")\n",
    "class_series.values"
   ]
  },
  {
   "cell_type": "code",
   "execution_count": null,
   "id": "2f0d0ee3",
   "metadata": {},
   "outputs": [],
   "source": [
    "classdict"
   ]
  },
  {
   "cell_type": "markdown",
   "id": "banned-congo",
   "metadata": {},
   "source": [
    "#### Accessing Series Elements"
   ]
  },
  {
   "cell_type": "code",
   "execution_count": 6,
   "id": "floral-tuning",
   "metadata": {},
   "outputs": [],
   "source": [
    "## Creating a pandas series with string index\n",
    "salaries_index = pd.Series(np.array([15000, 250000, 45000, 24000, 34000, 75000]), \n",
    "                           index=['a1','a2','a3','a4','a5','a6']\n",
    "                          )"
   ]
  },
  {
   "cell_type": "code",
   "execution_count": 5,
   "id": "considerable-cigarette",
   "metadata": {
    "scrolled": true
   },
   "outputs": [
    {
     "name": "stdout",
     "output_type": "stream",
     "text": [
      "a1     15000\n",
      "a2    250000\n",
      "a3     45000\n",
      "a4     24000\n",
      "a5     34000\n",
      "dtype: int32\n"
     ]
    }
   ],
   "source": [
    "## To retrieve first 5 elements\n",
    "print(salaries_index[:5])"
   ]
  },
  {
   "cell_type": "code",
   "execution_count": 7,
   "id": "first-project",
   "metadata": {},
   "outputs": [
    {
     "name": "stdout",
     "output_type": "stream",
     "text": [
      "a4    24000\n",
      "a5    34000\n",
      "a6    75000\n",
      "dtype: int32\n"
     ]
    }
   ],
   "source": [
    "## To retrieve last 3 elements\n",
    "print(salaries_index[-3:])"
   ]
  },
  {
   "cell_type": "code",
   "execution_count": 8,
   "id": "87340b8a",
   "metadata": {},
   "outputs": [
    {
     "data": {
      "text/plain": [
       "a1     15000\n",
       "a2    250000\n",
       "a3     45000\n",
       "dtype: int32"
      ]
     },
     "execution_count": 8,
     "metadata": {},
     "output_type": "execute_result"
    }
   ],
   "source": [
    "salaries_index['a1':'a3']"
   ]
  },
  {
   "cell_type": "code",
   "execution_count": 9,
   "id": "e2438144",
   "metadata": {},
   "outputs": [
    {
     "data": {
      "text/plain": [
       "15000"
      ]
     },
     "execution_count": 9,
     "metadata": {},
     "output_type": "execute_result"
    }
   ],
   "source": [
    "salaries_index['a1']"
   ]
  },
  {
   "cell_type": "code",
   "execution_count": 10,
   "id": "2d07074c",
   "metadata": {},
   "outputs": [
    {
     "data": {
      "text/plain": [
       "a1     15000\n",
       "a2    250000\n",
       "a3     45000\n",
       "dtype: int32"
      ]
     },
     "execution_count": 10,
     "metadata": {},
     "output_type": "execute_result"
    }
   ],
   "source": [
    "salaries_index[:'a3']"
   ]
  },
  {
   "cell_type": "markdown",
   "id": "7d010c81",
   "metadata": {},
   "source": [
    "## Accessing Series elements using Index Keys."
   ]
  },
  {
   "cell_type": "code",
   "execution_count": 12,
   "id": "foster-dealer",
   "metadata": {},
   "outputs": [
    {
     "name": "stdout",
     "output_type": "stream",
     "text": [
      "X    [Maths, English, Computers]\n",
      "Y           [Computers, Science]\n",
      "Z                        Science\n",
      "dtype: object\n",
      "Printing only X index values :  ['Maths', 'English', 'Computers'] \n",
      "\n",
      "\n",
      "X    [Maths, English, Computers]\n",
      "Y           [Computers, Science]\n",
      "dtype: object\n"
     ]
    }
   ],
   "source": [
    "## Creating class dictionary\n",
    "classdict = {'X':['Maths','English','Computers'],\n",
    "             'Y':['Computers','Science'],\n",
    "             'Z':\"Science\"}\n",
    "\n",
    "\n",
    "## Creating series from dictionary\n",
    "class_series = pd.Series(classdict)\n",
    "print(class_series)\n",
    "## Printing class_series\n",
    "\n",
    "## Accessing elements using index\n",
    "print(\"Printing only X index values : \",class_series['X'],'\\n\\n')\n",
    "\n",
    "## Accessing multiple elements\n",
    "print(class_series[['X','Y']])"
   ]
  },
  {
   "cell_type": "code",
   "execution_count": 40,
   "id": "3bc8fbe9",
   "metadata": {},
   "outputs": [
    {
     "name": "stdout",
     "output_type": "stream",
     "text": [
      "['Maths', 'English', 'Computers']\n",
      "<class 'list'>\n"
     ]
    }
   ],
   "source": [
    "## Accessing individual elements from a list\n",
    "print(class_series['X'])\n",
    "print(type(class_series['X']))\n"
   ]
  },
  {
   "cell_type": "code",
   "execution_count": 13,
   "id": "4e629608",
   "metadata": {},
   "outputs": [],
   "source": [
    "class_series['X'].append('Social Science')"
   ]
  },
  {
   "cell_type": "code",
   "execution_count": 14,
   "id": "d6c2a4ee",
   "metadata": {},
   "outputs": [
    {
     "data": {
      "text/plain": [
       "X    [Maths, English, Computers, Social Science]\n",
       "Y                           [Computers, Science]\n",
       "Z                                        Science\n",
       "dtype: object"
      ]
     },
     "execution_count": 14,
     "metadata": {},
     "output_type": "execute_result"
    }
   ],
   "source": [
    "class_series"
   ]
  },
  {
   "cell_type": "code",
   "execution_count": 16,
   "id": "e72dde6a",
   "metadata": {},
   "outputs": [
    {
     "data": {
      "text/plain": [
       "['English', 'Computers']"
      ]
     },
     "execution_count": 16,
     "metadata": {},
     "output_type": "execute_result"
    }
   ],
   "source": [
    "class_series['X'][1:3]"
   ]
  },
  {
   "cell_type": "code",
   "execution_count": 17,
   "id": "fa627ced",
   "metadata": {},
   "outputs": [
    {
     "data": {
      "text/plain": [
       "'Social Science'"
      ]
     },
     "execution_count": 17,
     "metadata": {},
     "output_type": "execute_result"
    }
   ],
   "source": [
    "class_series['X'][-1]"
   ]
  },
  {
   "cell_type": "code",
   "execution_count": 18,
   "id": "mental-swaziland",
   "metadata": {},
   "outputs": [
    {
     "name": "stdout",
     "output_type": "stream",
     "text": [
      "<class 'pandas.core.series.Series'>\n"
     ]
    },
    {
     "data": {
      "text/plain": [
       "Anand     450\n",
       "Akshay    292\n",
       "Chetan    326\n",
       "Vikram    435\n",
       "Vivek     289\n",
       "Jyothi    478\n",
       "dtype: int64"
      ]
     },
     "execution_count": 18,
     "metadata": {},
     "output_type": "execute_result"
    }
   ],
   "source": [
    "## Creating Student_marks Series\n",
    "stu_marks = pd.Series([450,292, 326, 435, 289, 478],\n",
    "                    index = ['Anand','Akshay','Chetan','Vikram','Vivek','Jyothi'])\n",
    "print(type(stu_marks))\n",
    "stu_marks"
   ]
  },
  {
   "cell_type": "code",
   "execution_count": 71,
   "id": "4cc850d9",
   "metadata": {},
   "outputs": [
    {
     "data": {
      "text/plain": [
       "Vivek     289\n",
       "Akshay    292\n",
       "Chetan    326\n",
       "Vikram    435\n",
       "Anand     450\n",
       "Jyothi    478\n",
       "dtype: int64"
      ]
     },
     "execution_count": 71,
     "metadata": {},
     "output_type": "execute_result"
    }
   ],
   "source": [
    "stu_marks.sort_values()"
   ]
  },
  {
   "cell_type": "code",
   "execution_count": 73,
   "id": "95199727",
   "metadata": {},
   "outputs": [
    {
     "data": {
      "text/plain": [
       "Vivek     289\n",
       "Vikram    435\n",
       "Jyothi    478\n",
       "Chetan    326\n",
       "Anand     450\n",
       "Akshay    292\n",
       "dtype: int64"
      ]
     },
     "execution_count": 73,
     "metadata": {},
     "output_type": "execute_result"
    }
   ],
   "source": [
    "stu_marks.sort_index(ascending = False)"
   ]
  },
  {
   "cell_type": "markdown",
   "id": "0b703af3",
   "metadata": {},
   "source": [
    "## Selecting the elements using filters"
   ]
  },
  {
   "cell_type": "code",
   "execution_count": 21,
   "id": "opening-profession",
   "metadata": {},
   "outputs": [
    {
     "data": {
      "text/plain": [
       "Anand     450\n",
       "Akshay    292\n",
       "Chetan    326\n",
       "Vikram    435\n",
       "Jyothi    478\n",
       "dtype: int64"
      ]
     },
     "execution_count": 21,
     "metadata": {},
     "output_type": "execute_result"
    }
   ],
   "source": [
    "## Filtering the series\n",
    "stu_marks[(stu_marks > 300) | (stu_marks.index == 'Akshay')]"
   ]
  },
  {
   "cell_type": "code",
   "execution_count": 20,
   "id": "591c3ced",
   "metadata": {},
   "outputs": [
    {
     "data": {
      "text/plain": [
       "450"
      ]
     },
     "execution_count": 20,
     "metadata": {},
     "output_type": "execute_result"
    }
   ],
   "source": [
    "stu_marks['Anand']"
   ]
  },
  {
   "cell_type": "code",
   "execution_count": 23,
   "id": "2c0fd8c8",
   "metadata": {},
   "outputs": [
    {
     "data": {
      "text/plain": [
       "378"
      ]
     },
     "execution_count": 23,
     "metadata": {},
     "output_type": "execute_result"
    }
   ],
   "source": [
    "int(stu_marks.mean())"
   ]
  },
  {
   "cell_type": "code",
   "execution_count": 24,
   "id": "4ea6d872",
   "metadata": {},
   "outputs": [
    {
     "data": {
      "text/plain": [
       "Anand      True\n",
       "Akshay    False\n",
       "Chetan    False\n",
       "Vikram     True\n",
       "Vivek     False\n",
       "Jyothi     True\n",
       "dtype: bool"
      ]
     },
     "execution_count": 24,
     "metadata": {},
     "output_type": "execute_result"
    }
   ],
   "source": [
    "stu_marks > int(stu_marks.mean())"
   ]
  },
  {
   "cell_type": "code",
   "execution_count": 27,
   "id": "51c0274e",
   "metadata": {},
   "outputs": [
    {
     "data": {
      "text/plain": [
       "Jyothi    478\n",
       "dtype: int64"
      ]
     },
     "execution_count": 27,
     "metadata": {},
     "output_type": "execute_result"
    }
   ],
   "source": [
    "stu_marks[stu_marks == stu_marks.max()]"
   ]
  },
  {
   "cell_type": "code",
   "execution_count": 25,
   "id": "20d7a924",
   "metadata": {},
   "outputs": [
    {
     "data": {
      "text/plain": [
       "Anand     450\n",
       "Vikram    435\n",
       "Jyothi    478\n",
       "dtype: int64"
      ]
     },
     "execution_count": 25,
     "metadata": {},
     "output_type": "execute_result"
    }
   ],
   "source": [
    "## Filtering using some other conditions\n",
    "stu_marks[stu_marks > int(stu_marks.mean())]"
   ]
  },
  {
   "cell_type": "code",
   "execution_count": 31,
   "id": "a4914fd7",
   "metadata": {},
   "outputs": [
    {
     "name": "stdout",
     "output_type": "stream",
     "text": [
      "The Top Student is :  Jyothi    478\n",
      "dtype: int64\n",
      "The Bottom Student is:  Vivek    289\n",
      "dtype: int64\n"
     ]
    }
   ],
   "source": [
    "## Selecting the Top Student\n",
    "print(\"The Top Student is : \", stu_marks[stu_marks == stu_marks.max()])\n",
    "\n",
    "## Selecting the Bottom Student\n",
    "print(\"The Bottom Student is: \", stu_marks[stu_marks == stu_marks.min()])"
   ]
  },
  {
   "cell_type": "code",
   "execution_count": 16,
   "id": "f864dac6",
   "metadata": {},
   "outputs": [
    {
     "data": {
      "text/plain": [
       "Chetan    326\n",
       "dtype: int64"
      ]
     },
     "execution_count": 16,
     "metadata": {},
     "output_type": "execute_result"
    }
   ],
   "source": [
    "stu_marks[(stu_marks > 300) & (stu_marks < 400)]"
   ]
  },
  {
   "cell_type": "code",
   "execution_count": 32,
   "id": "dedc3942",
   "metadata": {},
   "outputs": [
    {
     "data": {
      "text/plain": [
       "478"
      ]
     },
     "execution_count": 32,
     "metadata": {},
     "output_type": "execute_result"
    }
   ],
   "source": [
    "max(stu_marks)"
   ]
  },
  {
   "cell_type": "markdown",
   "id": "complimentary-jaguar",
   "metadata": {},
   "source": [
    "#### Arithmetic Operations on Series"
   ]
  },
  {
   "cell_type": "code",
   "execution_count": 28,
   "id": "interesting-package",
   "metadata": {
    "scrolled": true
   },
   "outputs": [
    {
     "name": "stdout",
     "output_type": "stream",
     "text": [
      "0    7512\n",
      "1    8070\n",
      "2    9735\n",
      "dtype: int64\n"
     ]
    }
   ],
   "source": [
    "## Creating series\n",
    "sales = pd.Series([2504, 2690, 3245])\n",
    "\n",
    "## Multiplying the series by 3\n",
    "print(sales * 3)"
   ]
  },
  {
   "cell_type": "code",
   "execution_count": 29,
   "id": "ignored-syndication",
   "metadata": {},
   "outputs": [
    {
     "data": {
      "text/plain": [
       "0     2904\n",
       "1    11084\n",
       "2     8036\n",
       "dtype: int64"
      ]
     },
     "execution_count": 29,
     "metadata": {},
     "output_type": "execute_result"
    }
   ],
   "source": [
    "## ELementwise Multiplication\n",
    "mrp_series = pd.Series([12,34,28])\n",
    "sales_series = pd.Series([242, 326, 287])\n",
    "\n",
    "## Computing Total Sales Series\n",
    "total_sales = mrp_series.multiply(sales_series)\n",
    "\n",
    "total_sales"
   ]
  },
  {
   "cell_type": "code",
   "execution_count": 50,
   "id": "friendly-ethernet",
   "metadata": {},
   "outputs": [
    {
     "data": {
      "text/plain": [
       "0     2904\n",
       "1    11084\n",
       "2     8036\n",
       "dtype: int64"
      ]
     },
     "execution_count": 50,
     "metadata": {},
     "output_type": "execute_result"
    }
   ],
   "source": [
    "## ELementwise Multiplication\n",
    "mrp_series = pd.Series([12,34,28])\n",
    "sales_series = pd.Series([242, 326, 287])\n",
    "\n",
    "## Computing Total Sales Series\n",
    "total_sales = mrp_series * sales_series\n",
    "\n",
    "total_sales\n"
   ]
  },
  {
   "cell_type": "code",
   "execution_count": 32,
   "id": "loose-prayer",
   "metadata": {},
   "outputs": [
    {
     "data": {
      "text/plain": [
       "0    181\n",
       "1    168\n",
       "2    183\n",
       "dtype: int64"
      ]
     },
     "execution_count": 32,
     "metadata": {},
     "output_type": "execute_result"
    }
   ],
   "source": [
    "## Addition of two series\n",
    "maths_marks = pd.Series([89,92,96])\n",
    "english_marks = pd.Series([92,76,87])\n",
    "\n",
    "## Adding two series\n",
    "total_marks = maths_marks + english_marks\n",
    "\n",
    "total_marks"
   ]
  },
  {
   "cell_type": "code",
   "execution_count": 39,
   "id": "sticky-climb",
   "metadata": {},
   "outputs": [
    {
     "data": {
      "text/plain": [
       "0    181.0\n",
       "1    168.0\n",
       "2    183.0\n",
       "3      NaN\n",
       "dtype: float64"
      ]
     },
     "execution_count": 39,
     "metadata": {},
     "output_type": "execute_result"
    }
   ],
   "source": [
    "## Suppose there is difference in number of elements in two series\n",
    "## Addition of two series\n",
    "maths_marks = pd.Series([89,92,96])\n",
    "english_marks = pd.Series([92,76,87,65])\n",
    "\n",
    "## Adding two series\n",
    "total_marks = maths_marks + english_marks\n",
    "\n",
    "total_marks"
   ]
  },
  {
   "cell_type": "code",
   "execution_count": 35,
   "id": "bf7e04b4",
   "metadata": {},
   "outputs": [
    {
     "name": "stdout",
     "output_type": "stream",
     "text": [
      "0    759.70\n",
      "1    161.60\n",
      "2    400.42\n",
      "3    697.62\n",
      "4    494.58\n",
      "dtype: float64\n"
     ]
    }
   ],
   "source": [
    "total_sales = pd.Series(np.random.randint(1000,10000,5))\n",
    "qty = pd.Series(np.random.randint(10,20, 5))\n",
    "\n",
    "sale_price = round(total_sales/qty,2)\n",
    "print(sale_price)"
   ]
  },
  {
   "cell_type": "markdown",
   "id": "historic-liberal",
   "metadata": {},
   "source": [
    "#### Series Ranking and Sorting"
   ]
  },
  {
   "cell_type": "code",
   "execution_count": 46,
   "id": "d1613eea",
   "metadata": {},
   "outputs": [
    {
     "name": "stdout",
     "output_type": "stream",
     "text": [
      "[382 373 494 393 340 321 449 474 447 356]\n"
     ]
    }
   ],
   "source": [
    "marks_list = np.random.randint(275, 500, 10)\n",
    "print(marks_list)"
   ]
  },
  {
   "cell_type": "code",
   "execution_count": 49,
   "id": "49631cbc",
   "metadata": {},
   "outputs": [
    {
     "name": "stdout",
     "output_type": "stream",
     "text": [
      "[321 479 368 316 299 285 331 327 420 400]\n",
      "0    321\n",
      "1    479\n",
      "2    368\n",
      "3    316\n",
      "4    299\n",
      "5    285\n",
      "6    331\n",
      "7    327\n",
      "8    420\n",
      "9    400\n",
      "dtype: int32\n",
      "1    479\n",
      "8    420\n",
      "9    400\n",
      "2    368\n",
      "6    331\n",
      "7    327\n",
      "0    321\n",
      "3    316\n",
      "4    299\n",
      "5    285\n",
      "dtype: int32\n"
     ]
    }
   ],
   "source": [
    "marks_list = np.random.randint(275, 500, 10)\n",
    "print(marks_list)\n",
    "\n",
    "marks_series = pd.Series(marks_list)\n",
    "print(marks_series)\n",
    "\n",
    "print(marks_series.sort_values(ascending = False))\n",
    "rank_series = marks_series.rank(ascending = False)"
   ]
  },
  {
   "cell_type": "code",
   "execution_count": 56,
   "id": "580f243f",
   "metadata": {},
   "outputs": [
    {
     "name": "stdout",
     "output_type": "stream",
     "text": [
      "Int64Index([1, 2, 6, 8, 9], dtype='int64')\n"
     ]
    }
   ],
   "source": [
    "print(rank_series[rank_series <= 5].index)"
   ]
  },
  {
   "cell_type": "code",
   "execution_count": 58,
   "id": "41ff2141",
   "metadata": {},
   "outputs": [
    {
     "data": {
      "text/plain": [
       "1    479\n",
       "8    420\n",
       "9    400\n",
       "2    368\n",
       "6    331\n",
       "dtype: int32"
      ]
     },
     "execution_count": 58,
     "metadata": {},
     "output_type": "execute_result"
    }
   ],
   "source": [
    "marks_series[rank_series[rank_series <= 5].index].sort_values(ascending=False)"
   ]
  },
  {
   "cell_type": "code",
   "execution_count": 60,
   "id": "734a65aa",
   "metadata": {},
   "outputs": [
    {
     "data": {
      "text/plain": [
       "array([321, 479, 368, 316, 299, 285, 331, 327, 420, 400])"
      ]
     },
     "execution_count": 60,
     "metadata": {},
     "output_type": "execute_result"
    }
   ],
   "source": [
    "marks_series.unique()"
   ]
  },
  {
   "cell_type": "code",
   "execution_count": 61,
   "id": "35e5fb29",
   "metadata": {},
   "outputs": [
    {
     "data": {
      "text/plain": [
       "count     10.000000\n",
       "mean     354.600000\n",
       "std       61.342753\n",
       "min      285.000000\n",
       "25%      317.250000\n",
       "50%      329.000000\n",
       "75%      392.000000\n",
       "max      479.000000\n",
       "dtype: float64"
      ]
     },
     "execution_count": 61,
     "metadata": {},
     "output_type": "execute_result"
    }
   ],
   "source": [
    "marks_series.describe()"
   ]
  },
  {
   "cell_type": "code",
   "execution_count": 64,
   "id": "enclosed-brooklyn",
   "metadata": {},
   "outputs": [
    {
     "data": {
      "text/plain": [
       "0      3.0\n",
       "1      5.5\n",
       "2      5.5\n",
       "3     11.0\n",
       "4      1.0\n",
       "5      8.0\n",
       "6      9.0\n",
       "7      4.0\n",
       "8     10.0\n",
       "9      7.0\n",
       "10     2.0\n",
       "dtype: float64"
      ]
     },
     "execution_count": 64,
     "metadata": {},
     "output_type": "execute_result"
    }
   ],
   "source": [
    "## Creating a marks Series with duplicate values\n",
    "marks = pd.Series([234,324,324, 982, 125, 465, 764, 257,872,325,198])\n",
    "marks.rank()"
   ]
  },
  {
   "cell_type": "code",
   "execution_count": 67,
   "id": "20580fe4",
   "metadata": {},
   "outputs": [
    {
     "data": {
      "text/plain": [
       "0      3.0\n",
       "1      5.0\n",
       "2      5.0\n",
       "3     11.0\n",
       "4      1.0\n",
       "5      8.0\n",
       "6      9.0\n",
       "7      4.0\n",
       "8     10.0\n",
       "9      7.0\n",
       "10     2.0\n",
       "dtype: float64"
      ]
     },
     "execution_count": 67,
     "metadata": {},
     "output_type": "execute_result"
    }
   ],
   "source": [
    "marks.rank(method='min')"
   ]
  },
  {
   "cell_type": "markdown",
   "id": "affiliated-sucking",
   "metadata": {},
   "source": [
    "The rank() will give rank based on the Ascending order of elements."
   ]
  },
  {
   "cell_type": "code",
   "execution_count": 22,
   "id": "98c936a3",
   "metadata": {},
   "outputs": [
    {
     "data": {
      "text/plain": [
       "0      9.0\n",
       "1      6.5\n",
       "2      6.5\n",
       "3      1.0\n",
       "4     11.0\n",
       "5      4.0\n",
       "6      3.0\n",
       "7      8.0\n",
       "8      2.0\n",
       "9      5.0\n",
       "10    10.0\n",
       "dtype: float64"
      ]
     },
     "execution_count": 22,
     "metadata": {},
     "output_type": "execute_result"
    }
   ],
   "source": [
    "marks.rank(ascending=False)"
   ]
  },
  {
   "cell_type": "code",
   "execution_count": 23,
   "id": "96020fc5",
   "metadata": {},
   "outputs": [
    {
     "data": {
      "text/plain": [
       "0     0.272727\n",
       "1     0.500000\n",
       "2     0.500000\n",
       "3     1.000000\n",
       "4     0.090909\n",
       "5     0.727273\n",
       "6     0.818182\n",
       "7     0.363636\n",
       "8     0.909091\n",
       "9     0.636364\n",
       "10    0.181818\n",
       "dtype: float64"
      ]
     },
     "execution_count": 23,
     "metadata": {},
     "output_type": "execute_result"
    }
   ],
   "source": [
    "marks.rank(pct=True)"
   ]
  },
  {
   "cell_type": "code",
   "execution_count": 69,
   "id": "db08a475",
   "metadata": {},
   "outputs": [
    {
     "name": "stdout",
     "output_type": "stream",
     "text": [
      "Ranking without na option\n",
      "\n",
      " 0      3.0\n",
      "1      5.0\n",
      "2      5.0\n",
      "3      NaN\n",
      "4     10.0\n",
      "5      1.0\n",
      "6      7.0\n",
      "7      8.0\n",
      "8      NaN\n",
      "9      4.0\n",
      "10     9.0\n",
      "11     6.0\n",
      "12     2.0\n",
      "dtype: float64\n"
     ]
    },
    {
     "data": {
      "text/plain": [
       "0      3.0\n",
       "1      5.0\n",
       "2      5.0\n",
       "3     11.0\n",
       "4     10.0\n",
       "5      1.0\n",
       "6      7.0\n",
       "7      8.0\n",
       "8     11.0\n",
       "9      4.0\n",
       "10     9.0\n",
       "11     6.0\n",
       "12     2.0\n",
       "dtype: float64"
      ]
     },
     "execution_count": 69,
     "metadata": {},
     "output_type": "execute_result"
    }
   ],
   "source": [
    "## Creating a marks Series with duplicate values\n",
    "marks = pd.Series([234,324,324, np.nan, 982, 125, 465, 764, np.nan, 257,872,325,198])\n",
    "print(\"Ranking without na option\\n\\n\", marks.rank(method='dense'))\n",
    "marks.rank(method = 'dense', na_option='bottom')"
   ]
  },
  {
   "cell_type": "code",
   "execution_count": 70,
   "id": "vocal-vancouver",
   "metadata": {},
   "outputs": [
    {
     "data": {
      "text/plain": [
       "3    23948.0\n",
       "5    23427.0\n",
       "8     3648.0\n",
       "4     3489.0\n",
       "0     2349.0\n",
       "1     2348.0\n",
       "7     1982.0\n",
       "2        NaN\n",
       "6        NaN\n",
       "dtype: float64"
      ]
     },
     "execution_count": 70,
     "metadata": {},
     "output_type": "execute_result"
    }
   ],
   "source": [
    "## Sorting the series using sort_values()\n",
    "sales = pd.Series([2349,2348,np.nan,23948,3489,23427,np.nan,1982,3648])\n",
    "                   \n",
    "sales.sort_values(ascending=False)"
   ]
  },
  {
   "cell_type": "code",
   "execution_count": null,
   "id": "8e38715a",
   "metadata": {},
   "outputs": [],
   "source": []
  },
  {
   "cell_type": "code",
   "execution_count": 47,
   "id": "married-clerk",
   "metadata": {},
   "outputs": [
    {
     "data": {
      "text/plain": [
       "2        NaN\n",
       "6        NaN\n",
       "3    23948.0\n",
       "5    23427.0\n",
       "8     3648.0\n",
       "4     3489.0\n",
       "0     2349.0\n",
       "1     2348.0\n",
       "7     1982.0\n",
       "dtype: float64"
      ]
     },
     "execution_count": 47,
     "metadata": {},
     "output_type": "execute_result"
    }
   ],
   "source": [
    "## Sorting the series using sort_values()\n",
    "sales = pd.Series([2349,2348,np.nan,23948,3489,23427,np.nan,1982,3648])\n",
    "                   \n",
    "sales.sort_values(ascending=False, na_position='first')"
   ]
  },
  {
   "cell_type": "code",
   "execution_count": 9,
   "id": "negative-treaty",
   "metadata": {},
   "outputs": [
    {
     "name": "stdout",
     "output_type": "stream",
     "text": [
      "107     3249.0\n",
      "101     2348.0\n",
      "104        NaN\n",
      "100    23948.0\n",
      "102     3489.0\n",
      "dtype: float64\n"
     ]
    },
    {
     "data": {
      "text/plain": [
       "100    23948.0\n",
       "101     2348.0\n",
       "102     3489.0\n",
       "104        NaN\n",
       "107     3249.0\n",
       "dtype: float64"
      ]
     },
     "execution_count": 9,
     "metadata": {},
     "output_type": "execute_result"
    }
   ],
   "source": [
    "## Sorting the series using sort_values()\n",
    "sales = pd.Series([3249,2348,np.nan,23948,3489], index=[107,101,104,100,102])\n",
    "print(sales)\n",
    "                   \n",
    "sales.sort_index(ascending=True)"
   ]
  },
  {
   "cell_type": "code",
   "execution_count": 76,
   "id": "aa3870c7",
   "metadata": {},
   "outputs": [
    {
     "name": "stdout",
     "output_type": "stream",
     "text": [
      "X    [Maths, English, Computers]\n",
      "Y           [Computers, Science]\n",
      "Z                        Science\n",
      "dtype: object\n"
     ]
    }
   ],
   "source": [
    "print(class_series)"
   ]
  },
  {
   "cell_type": "code",
   "execution_count": 78,
   "id": "fb7a9b27",
   "metadata": {},
   "outputs": [
    {
     "ename": "TypeError",
     "evalue": "'<' not supported between instances of 'str' and 'list'",
     "output_type": "error",
     "traceback": [
      "\u001b[1;31m---------------------------------------------------------------------------\u001b[0m",
      "\u001b[1;31mTypeError\u001b[0m                                 Traceback (most recent call last)",
      "\u001b[1;32m~\\AppData\\Local\\Temp/ipykernel_10860/551971111.py\u001b[0m in \u001b[0;36m<module>\u001b[1;34m\u001b[0m\n\u001b[1;32m----> 1\u001b[1;33m \u001b[0mclass_series\u001b[0m\u001b[1;33m.\u001b[0m\u001b[0msort_values\u001b[0m\u001b[1;33m(\u001b[0m\u001b[1;33m)\u001b[0m\u001b[1;33m\u001b[0m\u001b[1;33m\u001b[0m\u001b[0m\n\u001b[0m",
      "\u001b[1;32m~\\anaconda3\\lib\\site-packages\\pandas\\util\\_decorators.py\u001b[0m in \u001b[0;36mwrapper\u001b[1;34m(*args, **kwargs)\u001b[0m\n\u001b[0;32m    309\u001b[0m                     \u001b[0mstacklevel\u001b[0m\u001b[1;33m=\u001b[0m\u001b[0mstacklevel\u001b[0m\u001b[1;33m,\u001b[0m\u001b[1;33m\u001b[0m\u001b[1;33m\u001b[0m\u001b[0m\n\u001b[0;32m    310\u001b[0m                 )\n\u001b[1;32m--> 311\u001b[1;33m             \u001b[1;32mreturn\u001b[0m \u001b[0mfunc\u001b[0m\u001b[1;33m(\u001b[0m\u001b[1;33m*\u001b[0m\u001b[0margs\u001b[0m\u001b[1;33m,\u001b[0m \u001b[1;33m**\u001b[0m\u001b[0mkwargs\u001b[0m\u001b[1;33m)\u001b[0m\u001b[1;33m\u001b[0m\u001b[1;33m\u001b[0m\u001b[0m\n\u001b[0m\u001b[0;32m    312\u001b[0m \u001b[1;33m\u001b[0m\u001b[0m\n\u001b[0;32m    313\u001b[0m         \u001b[1;32mreturn\u001b[0m \u001b[0mwrapper\u001b[0m\u001b[1;33m\u001b[0m\u001b[1;33m\u001b[0m\u001b[0m\n",
      "\u001b[1;32m~\\anaconda3\\lib\\site-packages\\pandas\\core\\series.py\u001b[0m in \u001b[0;36msort_values\u001b[1;34m(self, axis, ascending, inplace, kind, na_position, ignore_index, key)\u001b[0m\n\u001b[0;32m   3453\u001b[0m         \u001b[1;31m# GH 35922. Make sorting stable by leveraging nargsort\u001b[0m\u001b[1;33m\u001b[0m\u001b[1;33m\u001b[0m\u001b[1;33m\u001b[0m\u001b[0m\n\u001b[0;32m   3454\u001b[0m         \u001b[0mvalues_to_sort\u001b[0m \u001b[1;33m=\u001b[0m \u001b[0mensure_key_mapped\u001b[0m\u001b[1;33m(\u001b[0m\u001b[0mself\u001b[0m\u001b[1;33m,\u001b[0m \u001b[0mkey\u001b[0m\u001b[1;33m)\u001b[0m\u001b[1;33m.\u001b[0m\u001b[0m_values\u001b[0m \u001b[1;32mif\u001b[0m \u001b[0mkey\u001b[0m \u001b[1;32melse\u001b[0m \u001b[0mself\u001b[0m\u001b[1;33m.\u001b[0m\u001b[0m_values\u001b[0m\u001b[1;33m\u001b[0m\u001b[1;33m\u001b[0m\u001b[0m\n\u001b[1;32m-> 3455\u001b[1;33m         \u001b[0msorted_index\u001b[0m \u001b[1;33m=\u001b[0m \u001b[0mnargsort\u001b[0m\u001b[1;33m(\u001b[0m\u001b[0mvalues_to_sort\u001b[0m\u001b[1;33m,\u001b[0m \u001b[0mkind\u001b[0m\u001b[1;33m,\u001b[0m \u001b[0mbool\u001b[0m\u001b[1;33m(\u001b[0m\u001b[0mascending\u001b[0m\u001b[1;33m)\u001b[0m\u001b[1;33m,\u001b[0m \u001b[0mna_position\u001b[0m\u001b[1;33m)\u001b[0m\u001b[1;33m\u001b[0m\u001b[1;33m\u001b[0m\u001b[0m\n\u001b[0m\u001b[0;32m   3456\u001b[0m \u001b[1;33m\u001b[0m\u001b[0m\n\u001b[0;32m   3457\u001b[0m         result = self._constructor(\n",
      "\u001b[1;32m~\\anaconda3\\lib\\site-packages\\pandas\\core\\sorting.py\u001b[0m in \u001b[0;36mnargsort\u001b[1;34m(items, kind, ascending, na_position, key, mask)\u001b[0m\n\u001b[0;32m    401\u001b[0m         \u001b[0mnon_nans\u001b[0m \u001b[1;33m=\u001b[0m \u001b[0mnon_nans\u001b[0m\u001b[1;33m[\u001b[0m\u001b[1;33m:\u001b[0m\u001b[1;33m:\u001b[0m\u001b[1;33m-\u001b[0m\u001b[1;36m1\u001b[0m\u001b[1;33m]\u001b[0m\u001b[1;33m\u001b[0m\u001b[1;33m\u001b[0m\u001b[0m\n\u001b[0;32m    402\u001b[0m         \u001b[0mnon_nan_idx\u001b[0m \u001b[1;33m=\u001b[0m \u001b[0mnon_nan_idx\u001b[0m\u001b[1;33m[\u001b[0m\u001b[1;33m:\u001b[0m\u001b[1;33m:\u001b[0m\u001b[1;33m-\u001b[0m\u001b[1;36m1\u001b[0m\u001b[1;33m]\u001b[0m\u001b[1;33m\u001b[0m\u001b[1;33m\u001b[0m\u001b[0m\n\u001b[1;32m--> 403\u001b[1;33m     \u001b[0mindexer\u001b[0m \u001b[1;33m=\u001b[0m \u001b[0mnon_nan_idx\u001b[0m\u001b[1;33m[\u001b[0m\u001b[0mnon_nans\u001b[0m\u001b[1;33m.\u001b[0m\u001b[0margsort\u001b[0m\u001b[1;33m(\u001b[0m\u001b[0mkind\u001b[0m\u001b[1;33m=\u001b[0m\u001b[0mkind\u001b[0m\u001b[1;33m)\u001b[0m\u001b[1;33m]\u001b[0m\u001b[1;33m\u001b[0m\u001b[1;33m\u001b[0m\u001b[0m\n\u001b[0m\u001b[0;32m    404\u001b[0m     \u001b[1;32mif\u001b[0m \u001b[1;32mnot\u001b[0m \u001b[0mascending\u001b[0m\u001b[1;33m:\u001b[0m\u001b[1;33m\u001b[0m\u001b[1;33m\u001b[0m\u001b[0m\n\u001b[0;32m    405\u001b[0m         \u001b[0mindexer\u001b[0m \u001b[1;33m=\u001b[0m \u001b[0mindexer\u001b[0m\u001b[1;33m[\u001b[0m\u001b[1;33m:\u001b[0m\u001b[1;33m:\u001b[0m\u001b[1;33m-\u001b[0m\u001b[1;36m1\u001b[0m\u001b[1;33m]\u001b[0m\u001b[1;33m\u001b[0m\u001b[1;33m\u001b[0m\u001b[0m\n",
      "\u001b[1;31mTypeError\u001b[0m: '<' not supported between instances of 'str' and 'list'"
     ]
    }
   ],
   "source": [
    "class_series.sort_values()"
   ]
  },
  {
   "cell_type": "code",
   "execution_count": 77,
   "id": "c9dea5df",
   "metadata": {},
   "outputs": [
    {
     "data": {
      "text/plain": [
       "Z                        Science\n",
       "Y           [Computers, Science]\n",
       "X    [Maths, English, Computers]\n",
       "dtype: object"
      ]
     },
     "execution_count": 77,
     "metadata": {},
     "output_type": "execute_result"
    }
   ],
   "source": [
    "class_series.sort_index(ascending=False)"
   ]
  },
  {
   "cell_type": "markdown",
   "id": "realistic-sailing",
   "metadata": {},
   "source": [
    "#### Checking null values\n",
    "isnull() and notnull() are used to check null values in Series."
   ]
  },
  {
   "cell_type": "code",
   "execution_count": 96,
   "id": "verbal-inside",
   "metadata": {},
   "outputs": [
    {
     "name": "stdout",
     "output_type": "stream",
     "text": [
      "0    False\n",
      "1    False\n",
      "2     True\n",
      "3    False\n",
      "4    False\n",
      "5    False\n",
      "6     True\n",
      "7    False\n",
      "8    False\n",
      "dtype: bool\n",
      "\n",
      "Number of missing values =  2\n"
     ]
    },
    {
     "data": {
      "text/plain": [
       "0     2349.0\n",
       "1     2348.0\n",
       "3    23948.0\n",
       "4     3489.0\n",
       "5    23427.0\n",
       "7     1982.0\n",
       "8     3648.0\n",
       "dtype: float64"
      ]
     },
     "execution_count": 96,
     "metadata": {},
     "output_type": "execute_result"
    }
   ],
   "source": [
    "## Sorting the series using sort_values()\n",
    "sales = pd.Series([2349,2348,np.nan,23948,3489,23427,np.nan,1982,3648])\n",
    "                  \n",
    "print(sales.isnull())         \n",
    "\n",
    "print(\"\\nNumber of missing values = \", sales.isnull().sum())\n",
    "\n",
    "sales1 = sales[sales.isnull() == False]\n",
    "sales1"
   ]
  },
  {
   "cell_type": "code",
   "execution_count": 29,
   "id": "loved-hardware",
   "metadata": {},
   "outputs": [
    {
     "name": "stdout",
     "output_type": "stream",
     "text": [
      "0     2349.0\n",
      "1     2348.0\n",
      "2        NaN\n",
      "3    23948.0\n",
      "4     3489.0\n",
      "5    23427.0\n",
      "6        NaN\n",
      "7     1982.0\n",
      "8     3648.0\n",
      "dtype: float64\n",
      "8741.57142857143\n"
     ]
    },
    {
     "data": {
      "text/plain": [
       "0     2349.0\n",
       "1     2348.0\n",
       "2     8742.0\n",
       "3    23948.0\n",
       "4     3489.0\n",
       "5    23427.0\n",
       "6     8742.0\n",
       "7     1982.0\n",
       "8     3648.0\n",
       "dtype: float64"
      ]
     },
     "execution_count": 29,
     "metadata": {},
     "output_type": "execute_result"
    }
   ],
   "source": [
    "## Sorting the series using sort_values()\n",
    "sales = pd.Series([2349,2348,np.nan,23948,3489,23427,np.nan,1982,3648],dtype=float) \n",
    "print(sales)\n",
    "print(sales.mean())\n",
    "    \n",
    "sales[sales.isnull() == True] = round(np.mean(sales))\n",
    "sales"
   ]
  },
  {
   "cell_type": "code",
   "execution_count": 17,
   "id": "instrumental-switch",
   "metadata": {},
   "outputs": [
    {
     "name": "stdout",
     "output_type": "stream",
     "text": [
      "0     True\n",
      "1     True\n",
      "2    False\n",
      "3     True\n",
      "4     True\n",
      "5     True\n",
      "6    False\n",
      "7     True\n",
      "8     True\n",
      "dtype: bool\n"
     ]
    },
    {
     "data": {
      "text/plain": [
       "0     2349.0\n",
       "1     2348.0\n",
       "3    23948.0\n",
       "4     3489.0\n",
       "5    23427.0\n",
       "7     1982.0\n",
       "8     3648.0\n",
       "dtype: float64"
      ]
     },
     "execution_count": 17,
     "metadata": {},
     "output_type": "execute_result"
    }
   ],
   "source": [
    "## Sorting the series using sort_values()\n",
    "sales = pd.Series([2349,2348,np.nan,23948,3489,23427,np.nan,1982,3648])\n",
    "                  \n",
    "print(sales.notnull())         \n",
    "\n",
    "sales1 = sales[sales.notnull()]\n",
    "sales1"
   ]
  },
  {
   "cell_type": "markdown",
   "id": "suitable-tenant",
   "metadata": {},
   "source": [
    "#### Concatenating Series\n",
    "\n",
    "We can use concat() and append() to concatenate two or more Series."
   ]
  },
  {
   "cell_type": "code",
   "execution_count": 75,
   "id": "advisory-arrest",
   "metadata": {},
   "outputs": [
    {
     "name": "stdout",
     "output_type": "stream",
     "text": [
      "0      0.0\n",
      "1      2.0\n",
      "2      4.0\n",
      "3      6.0\n",
      "4      8.0\n",
      "5     10.0\n",
      "6     12.0\n",
      "7     14.0\n",
      "8     16.0\n",
      "9     18.0\n",
      "10    20.0\n",
      "dtype: float64\n",
      "0      1.0\n",
      "1      3.0\n",
      "2      5.0\n",
      "3      7.0\n",
      "4      9.0\n",
      "5     11.0\n",
      "6     13.0\n",
      "7     15.0\n",
      "8     17.0\n",
      "9     19.0\n",
      "10    21.0\n",
      "dtype: float64\n",
      "0     22.0\n",
      "1     23.0\n",
      "2     24.0\n",
      "3     25.0\n",
      "4     26.0\n",
      "5     27.0\n",
      "6     28.0\n",
      "7     29.0\n",
      "8     30.0\n",
      "9     31.0\n",
      "10    32.0\n",
      "dtype: float64\n"
     ]
    }
   ],
   "source": [
    "## Creating two series using np.linspace\n",
    "class1 = pd.Series(np.linspace(0,20,11))\n",
    "class2 = pd.Series(np.linspace(1,21,11))\n",
    "class3 = pd.Series(np.linspace(22,32,11))\n",
    "\n",
    "print(class1)\n",
    "print(class2)\n",
    "print(class3)"
   ]
  },
  {
   "cell_type": "code",
   "execution_count": 77,
   "id": "brave-opposition",
   "metadata": {},
   "outputs": [
    {
     "name": "stdout",
     "output_type": "stream",
     "text": [
      "0      0.0\n",
      "1      2.0\n",
      "2      4.0\n",
      "3      6.0\n",
      "4      8.0\n",
      "5     10.0\n",
      "6     12.0\n",
      "7     14.0\n",
      "8     16.0\n",
      "9     18.0\n",
      "10    20.0\n",
      "0      1.0\n",
      "1      3.0\n",
      "2      5.0\n",
      "3      7.0\n",
      "4      9.0\n",
      "5     11.0\n",
      "6     13.0\n",
      "7     15.0\n",
      "8     17.0\n",
      "9     19.0\n",
      "10    21.0\n",
      "0     22.0\n",
      "1     23.0\n",
      "2     24.0\n",
      "3     25.0\n",
      "4     26.0\n",
      "5     27.0\n",
      "6     28.0\n",
      "7     29.0\n",
      "8     30.0\n",
      "9     31.0\n",
      "10    32.0\n",
      "dtype: float64\n",
      "0     0.0\n",
      "0     1.0\n",
      "0    22.0\n",
      "dtype: float64\n"
     ]
    }
   ],
   "source": [
    "## Concatenting two series using concat()\n",
    "newseries = pd.concat([class1, class2, class3])\n",
    "#newseries = pd.concat([class1, class2, class3], ignore_index=True)\n",
    "print(newseries)\n",
    "print(newseries[0])"
   ]
  },
  {
   "cell_type": "code",
   "execution_count": 78,
   "id": "e9912030",
   "metadata": {},
   "outputs": [
    {
     "data": {
      "text/plain": [
       "0      0.0\n",
       "1      2.0\n",
       "2      4.0\n",
       "3      6.0\n",
       "4      8.0\n",
       "5     10.0\n",
       "6     12.0\n",
       "7     14.0\n",
       "8     16.0\n",
       "9     18.0\n",
       "10    20.0\n",
       "11     1.0\n",
       "12     3.0\n",
       "13     5.0\n",
       "14     7.0\n",
       "15     9.0\n",
       "16    11.0\n",
       "17    13.0\n",
       "18    15.0\n",
       "19    17.0\n",
       "20    19.0\n",
       "21    21.0\n",
       "22    22.0\n",
       "23    23.0\n",
       "24    24.0\n",
       "25    25.0\n",
       "26    26.0\n",
       "27    27.0\n",
       "28    28.0\n",
       "29    29.0\n",
       "30    30.0\n",
       "31    31.0\n",
       "32    32.0\n",
       "dtype: float64"
      ]
     },
     "execution_count": 78,
     "metadata": {},
     "output_type": "execute_result"
    }
   ],
   "source": [
    "## Concatenating all the series and resetting index\n",
    "newseries = pd.concat([class1, class2, class3], ignore_index=True)\n",
    "newseries"
   ]
  },
  {
   "cell_type": "code",
   "execution_count": 79,
   "id": "787e247e",
   "metadata": {},
   "outputs": [
    {
     "name": "stdout",
     "output_type": "stream",
     "text": [
      "Series 1: 0     7359\n",
      "1     5680\n",
      "2     3867\n",
      "3     6795\n",
      "4     8925\n",
      "5     7559\n",
      "6     8047\n",
      "7     3154\n",
      "8     5578\n",
      "9     9393\n",
      "10    4520\n",
      "11    5541\n",
      "12    1593\n",
      "13    8654\n",
      "14    6006\n",
      "dtype: int32\n",
      "Series 2: 0     12873\n",
      "1     11356\n",
      "2      7387\n",
      "3     10330\n",
      "4      5877\n",
      "5     18929\n",
      "6      8892\n",
      "7     17121\n",
      "8      7482\n",
      "9     19388\n",
      "10     2342\n",
      "11    13933\n",
      "12    16139\n",
      "13    10526\n",
      "14     1544\n",
      "dtype: int32\n"
     ]
    }
   ],
   "source": [
    "s1_sales = pd.Series(np.random.randint(1500,10000,15))\n",
    "s2_sales = pd.Series(np.random.randint(1500,20000,15))\n",
    "\n",
    "print('Series 1:', s1_sales)\n",
    "print('Series 2:',s2_sales)"
   ]
  },
  {
   "cell_type": "code",
   "execution_count": 81,
   "id": "rocky-airfare",
   "metadata": {},
   "outputs": [
    {
     "data": {
      "text/plain": [
       "Store   Index\n",
       "Store1  0         7359\n",
       "        1         5680\n",
       "        2         3867\n",
       "        3         6795\n",
       "        4         8925\n",
       "        5         7559\n",
       "        6         8047\n",
       "        7         3154\n",
       "        8         5578\n",
       "        9         9393\n",
       "        10        4520\n",
       "        11        5541\n",
       "        12        1593\n",
       "        13        8654\n",
       "        14        6006\n",
       "Store2  0        12873\n",
       "        1        11356\n",
       "        2         7387\n",
       "        3        10330\n",
       "        4         5877\n",
       "        5        18929\n",
       "        6         8892\n",
       "        7        17121\n",
       "        8         7482\n",
       "        9        19388\n",
       "        10        2342\n",
       "        11       13933\n",
       "        12       16139\n",
       "        13       10526\n",
       "        14        1544\n",
       "dtype: int32"
      ]
     },
     "execution_count": 81,
     "metadata": {},
     "output_type": "execute_result"
    }
   ],
   "source": [
    "## Concatenting two series using concat() with Hierarchical Index and Label the Index\n",
    "sales_series = pd.concat([s1_sales, s2_sales], keys=['Store1','Store2'], names=['Store','Index'])\n",
    "sales_series"
   ]
  },
  {
   "cell_type": "code",
   "execution_count": 82,
   "id": "8e9e3a70",
   "metadata": {},
   "outputs": [
    {
     "data": {
      "text/plain": [
       "MultiIndex([('Store1',  0),\n",
       "            ('Store1',  1),\n",
       "            ('Store1',  2),\n",
       "            ('Store1',  3),\n",
       "            ('Store1',  4),\n",
       "            ('Store1',  5),\n",
       "            ('Store1',  6),\n",
       "            ('Store1',  7),\n",
       "            ('Store1',  8),\n",
       "            ('Store1',  9),\n",
       "            ('Store1', 10),\n",
       "            ('Store1', 11),\n",
       "            ('Store1', 12),\n",
       "            ('Store1', 13),\n",
       "            ('Store1', 14),\n",
       "            ('Store2',  0),\n",
       "            ('Store2',  1),\n",
       "            ('Store2',  2),\n",
       "            ('Store2',  3),\n",
       "            ('Store2',  4),\n",
       "            ('Store2',  5),\n",
       "            ('Store2',  6),\n",
       "            ('Store2',  7),\n",
       "            ('Store2',  8),\n",
       "            ('Store2',  9),\n",
       "            ('Store2', 10),\n",
       "            ('Store2', 11),\n",
       "            ('Store2', 12),\n",
       "            ('Store2', 13),\n",
       "            ('Store2', 14)],\n",
       "           names=['Store', 'Index'])"
      ]
     },
     "execution_count": 82,
     "metadata": {},
     "output_type": "execute_result"
    }
   ],
   "source": [
    "sales_series.index"
   ]
  },
  {
   "cell_type": "code",
   "execution_count": 87,
   "id": "3cf34c79",
   "metadata": {},
   "outputs": [
    {
     "name": "stdout",
     "output_type": "stream",
     "text": [
      "Index\n",
      "0     7359\n",
      "1     5680\n",
      "2     3867\n",
      "3     6795\n",
      "4     8925\n",
      "5     7559\n",
      "6     8047\n",
      "7     3154\n",
      "8     5578\n",
      "9     9393\n",
      "10    4520\n",
      "11    5541\n",
      "12    1593\n",
      "13    8654\n",
      "14    6006\n",
      "dtype: int32\n",
      "Average Sales of Store 1:  6178.07\n",
      "Average Sales of Store 2:  10941.27\n",
      "Overall Average Sales: 8559.67\n"
     ]
    }
   ],
   "source": [
    "print(sales_series['Store1'])  ## Retrieve the values using outer key\n",
    "\n",
    "print(\"Average Sales of Store 1: \", round(sales_series['Store1'].mean(),2))  ## Average Store1 Sales\n",
    "print(\"Average Sales of Store 2: \", round(sales_series['Store2'].mean(),2))  ## Average Store2 Sales\n",
    "      \n",
    "print(\"Overall Average Sales: {0:.2f}\".format(sales_series.mean()))      ## Overall Average Sales"
   ]
  },
  {
   "cell_type": "code",
   "execution_count": 114,
   "id": "7bc823a5",
   "metadata": {},
   "outputs": [
    {
     "data": {
      "text/plain": [
       "Index\n",
       "0    8984\n",
       "1    2641\n",
       "2    8810\n",
       "3    5136\n",
       "4    7362\n",
       "5    8260\n",
       "6    9297\n",
       "7    5418\n",
       "8    2824\n",
       "9    1938\n",
       "dtype: int32"
      ]
     },
     "execution_count": 114,
     "metadata": {},
     "output_type": "execute_result"
    }
   ],
   "source": [
    "newseries['Store1'][:10]  ## Accessing the data using both levels of index"
   ]
  },
  {
   "cell_type": "code",
   "execution_count": 88,
   "id": "cd951364",
   "metadata": {},
   "outputs": [
    {
     "data": {
      "text/plain": [
       "Store  Index\n",
       "S1     0         7359\n",
       "       1         5680\n",
       "       2         3867\n",
       "       3         6795\n",
       "       4         8925\n",
       "       5         7559\n",
       "       6         8047\n",
       "       7         3154\n",
       "       8         5578\n",
       "       9         9393\n",
       "       10        4520\n",
       "       11        5541\n",
       "       12        1593\n",
       "       13        8654\n",
       "       14        6006\n",
       "S2     0        12873\n",
       "       1        11356\n",
       "       2         7387\n",
       "       3        10330\n",
       "       4         5877\n",
       "       5        18929\n",
       "       6         8892\n",
       "       7        17121\n",
       "       8         7482\n",
       "       9        19388\n",
       "       10        2342\n",
       "       11       13933\n",
       "       12       16139\n",
       "       13       10526\n",
       "       14        1544\n",
       "dtype: int32"
      ]
     },
     "execution_count": 88,
     "metadata": {},
     "output_type": "execute_result"
    }
   ],
   "source": [
    "comsales = pd.concat([s1_sales, s2_sales],keys=['S1','S2'],names=['Store','Index'])\n",
    "comsales"
   ]
  },
  {
   "cell_type": "code",
   "execution_count": 121,
   "id": "4c3a81df",
   "metadata": {},
   "outputs": [
    {
     "name": "stdout",
     "output_type": "stream",
     "text": [
      "Store_Sales\n"
     ]
    }
   ],
   "source": [
    "comsales.name = 'Store_Sales'\n",
    "print(comsales.name)"
   ]
  },
  {
   "cell_type": "code",
   "execution_count": 111,
   "id": "sunrise-alloy",
   "metadata": {},
   "outputs": [
    {
     "data": {
      "text/plain": [
       "0      8984\n",
       "1      2641\n",
       "2      8810\n",
       "3      5136\n",
       "4      7362\n",
       "5      8260\n",
       "6      9297\n",
       "7      5418\n",
       "8      2824\n",
       "9      1938\n",
       "10     3498\n",
       "11     7804\n",
       "12     7685\n",
       "13     7222\n",
       "14     3898\n",
       "0     12688\n",
       "1      5586\n",
       "2      2763\n",
       "3     18481\n",
       "4      9669\n",
       "5     11514\n",
       "6     10139\n",
       "7     19834\n",
       "8     15498\n",
       "9      1829\n",
       "10     8821\n",
       "11    13602\n",
       "12    19930\n",
       "13    12830\n",
       "14     5907\n",
       "dtype: int32"
      ]
     },
     "execution_count": 111,
     "metadata": {},
     "output_type": "execute_result"
    }
   ],
   "source": [
    "## Concatenting the series using append()\n",
    "s1_sales.append(s2_sales)"
   ]
  },
  {
   "cell_type": "code",
   "execution_count": 112,
   "id": "entitled-delta",
   "metadata": {},
   "outputs": [
    {
     "data": {
      "text/plain": [
       "0      8984\n",
       "1      2641\n",
       "2      8810\n",
       "3      5136\n",
       "4      7362\n",
       "5      8260\n",
       "6      9297\n",
       "7      5418\n",
       "8      2824\n",
       "9      1938\n",
       "10     3498\n",
       "11     7804\n",
       "12     7685\n",
       "13     7222\n",
       "14     3898\n",
       "15    12688\n",
       "16     5586\n",
       "17     2763\n",
       "18    18481\n",
       "19     9669\n",
       "20    11514\n",
       "21    10139\n",
       "22    19834\n",
       "23    15498\n",
       "24     1829\n",
       "25     8821\n",
       "26    13602\n",
       "27    19930\n",
       "28    12830\n",
       "29     5907\n",
       "dtype: int32"
      ]
     },
     "execution_count": 112,
     "metadata": {},
     "output_type": "execute_result"
    }
   ],
   "source": [
    "## Ignoring the original index of the series\n",
    "s1_sales.append(s2_sales, ignore_index = True)"
   ]
  },
  {
   "cell_type": "code",
   "execution_count": 34,
   "id": "instrumental-yemen",
   "metadata": {},
   "outputs": [
    {
     "data": {
      "text/plain": [
       "0     41368\n",
       "1     14854\n",
       "2     47035\n",
       "3     32613\n",
       "4     11827\n",
       "5     21752\n",
       "6     29590\n",
       "7     41297\n",
       "8     40104\n",
       "9     11680\n",
       "10    22495\n",
       "11    20012\n",
       "12    38649\n",
       "13    20199\n",
       "14    13382\n",
       "15    38379\n",
       "16    34928\n",
       "17    11775\n",
       "18    30959\n",
       "19    13169\n",
       "20    27978\n",
       "21    18530\n",
       "22    12454\n",
       "23    21274\n",
       "24    28562\n",
       "25    25395\n",
       "26    30686\n",
       "27    22066\n",
       "28    20474\n",
       "29    35425\n",
       "dtype: int32"
      ]
     },
     "execution_count": 34,
     "metadata": {},
     "output_type": "execute_result"
    }
   ],
   "source": [
    "st1sales=pd.Series(np.random.randint(10000,50000,30))\n",
    "st2sales=pd.Series(np.random.randint(10000,50000,30))\n"
   ]
  },
  {
   "cell_type": "code",
   "execution_count": 40,
   "id": "9f03851d",
   "metadata": {},
   "outputs": [],
   "source": [
    "combinedsales = pd.concat([st1sales,st2sales], keys=['Store1','Store2'])"
   ]
  },
  {
   "cell_type": "code",
   "execution_count": 43,
   "id": "2459e170",
   "metadata": {},
   "outputs": [
    {
     "data": {
      "text/plain": [
       "31645.433333333334"
      ]
     },
     "execution_count": 43,
     "metadata": {},
     "output_type": "execute_result"
    }
   ],
   "source": [
    "combinedsales['Store1'].mean()"
   ]
  },
  {
   "cell_type": "code",
   "execution_count": 45,
   "id": "b56ab0fb",
   "metadata": {},
   "outputs": [
    {
     "data": {
      "text/plain": [
       "25963.7"
      ]
     },
     "execution_count": 45,
     "metadata": {},
     "output_type": "execute_result"
    }
   ],
   "source": [
    "combinedsales['Store2'].mean()"
   ]
  },
  {
   "cell_type": "code",
   "execution_count": 46,
   "id": "63079edd",
   "metadata": {},
   "outputs": [
    {
     "data": {
      "text/plain": [
       "28804.566666666666"
      ]
     },
     "execution_count": 46,
     "metadata": {},
     "output_type": "execute_result"
    }
   ],
   "source": [
    "combinedsales.mean()"
   ]
  },
  {
   "cell_type": "code",
   "execution_count": 48,
   "id": "360dd065",
   "metadata": {},
   "outputs": [
    {
     "name": "stdout",
     "output_type": "stream",
     "text": [
      "0     1015\n",
      "1     1167\n",
      "2     1962\n",
      "3     1899\n",
      "4     1092\n",
      "5     1510\n",
      "6     1813\n",
      "7     1657\n",
      "8     1894\n",
      "9     1345\n",
      "10    1776\n",
      "11    1213\n",
      "12    1872\n",
      "13    1347\n",
      "14    1428\n",
      "15    1313\n",
      "16    1774\n",
      "17    1588\n",
      "18    1191\n",
      "19    1324\n",
      "dtype: int32\n",
      "0     1192\n",
      "1     1160\n",
      "2     1229\n",
      "3     1658\n",
      "4     1729\n",
      "5     1513\n",
      "6     1693\n",
      "7     1060\n",
      "8     1196\n",
      "9     1822\n",
      "10    1993\n",
      "11    1297\n",
      "12    1911\n",
      "13    1220\n",
      "14    1137\n",
      "15    1602\n",
      "16    1161\n",
      "17    1771\n",
      "18    1462\n",
      "19    1302\n",
      "dtype: int32\n"
     ]
    }
   ],
   "source": [
    "s1 = pd.Series(np.random.randint(1000,2000,20))\n",
    "s2 = pd.Series(np.random.randint(1000,2000,20))\n",
    "print(s1)\n",
    "print(s2)"
   ]
  },
  {
   "cell_type": "code",
   "execution_count": 50,
   "id": "6adcfd33",
   "metadata": {},
   "outputs": [
    {
     "data": {
      "text/plain": [
       "0     1015\n",
       "1     1167\n",
       "2     1962\n",
       "3     1899\n",
       "4     1092\n",
       "5     1510\n",
       "6     1813\n",
       "7     1657\n",
       "8     1894\n",
       "9     1345\n",
       "10    1776\n",
       "11    1213\n",
       "12    1872\n",
       "13    1347\n",
       "14    1428\n",
       "15    1313\n",
       "16    1774\n",
       "17    1588\n",
       "18    1191\n",
       "19    1324\n",
       "20    1192\n",
       "21    1160\n",
       "22    1229\n",
       "23    1658\n",
       "24    1729\n",
       "25    1513\n",
       "26    1693\n",
       "27    1060\n",
       "28    1196\n",
       "29    1822\n",
       "30    1993\n",
       "31    1297\n",
       "32    1911\n",
       "33    1220\n",
       "34    1137\n",
       "35    1602\n",
       "36    1161\n",
       "37    1771\n",
       "38    1462\n",
       "39    1302\n",
       "dtype: int32"
      ]
     },
     "execution_count": 50,
     "metadata": {},
     "output_type": "execute_result"
    }
   ],
   "source": [
    "s1.append(s2, ignore_index=True)"
   ]
  },
  {
   "cell_type": "code",
   "execution_count": 54,
   "id": "9bca1912",
   "metadata": {},
   "outputs": [],
   "source": [
    "s1s2 = pd.concat([s1,s2], keys=['S1','S2'])"
   ]
  },
  {
   "cell_type": "code",
   "execution_count": 57,
   "id": "7cef8ee1",
   "metadata": {},
   "outputs": [
    {
     "data": {
      "text/plain": [
       "1015"
      ]
     },
     "execution_count": 57,
     "metadata": {},
     "output_type": "execute_result"
    }
   ],
   "source": [
    "s1s2['S1'][0]  ## Selecting single element from a combined series"
   ]
  },
  {
   "cell_type": "code",
   "execution_count": null,
   "id": "cc167fb3",
   "metadata": {},
   "outputs": [],
   "source": []
  }
 ],
 "metadata": {
  "kernelspec": {
   "display_name": "Python 3 (ipykernel)",
   "language": "python",
   "name": "python3"
  },
  "language_info": {
   "codemirror_mode": {
    "name": "ipython",
    "version": 3
   },
   "file_extension": ".py",
   "mimetype": "text/x-python",
   "name": "python",
   "nbconvert_exporter": "python",
   "pygments_lexer": "ipython3",
   "version": "3.9.7"
  }
 },
 "nbformat": 4,
 "nbformat_minor": 5
}
